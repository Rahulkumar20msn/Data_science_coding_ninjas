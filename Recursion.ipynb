{
 "cells": [
  {
   "cell_type": "code",
   "execution_count": null,
   "metadata": {},
   "outputs": [],
   "source": [
    "def factorial_recursion(n):\n",
    "    if n==0:\n",
    "        return 1\n",
    "    return n*factorial_recursion(n-1)\n",
    "n=int(input())\n",
    "print(factorial_recursion(n))\n"
   ]
  },
  {
   "cell_type": "code",
   "execution_count": null,
   "metadata": {},
   "outputs": [],
   "source": [
    "def sum(n):\n",
    "    if n==0:\n",
    "        return 0\n",
    "    return n+sum(n-1)  \n",
    "n=int(input())\n",
    "print(sum(n))\n"
   ]
  },
  {
   "cell_type": "code",
   "execution_count": null,
   "metadata": {},
   "outputs": [],
   "source": [
    "def power(m,n):\n",
    "    if m==0 and n==0:\n",
    "        return 0\n",
    "    if m==0:\n",
    "        return 0\n",
    "    if n==0:\n",
    "        return 1\n",
    "    small=power(m,n-1)\n",
    "    return m*small\n",
    "    \n",
    "m, n=(int(i) for i in input().strip().split(' '))\n",
    "\n",
    "print(int(power(m,n)))"
   ]
  },
  {
   "cell_type": "code",
   "execution_count": null,
   "metadata": {},
   "outputs": [],
   "source": [
    "def oneton(n):\n",
    "    if n==0:\n",
    "        return\n",
    "    \n",
    "    small=oneton(n-1)\n",
    "    print(n,end=\" \")\n",
    "    return \n",
    "n=int(input())\n",
    "oneton(n)"
   ]
  },
  {
   "cell_type": "code",
   "execution_count": null,
   "metadata": {},
   "outputs": [],
   "source": [
    "def fun(n):\n",
    "    if(n == 4):\n",
    "        return n\n",
    "    else:\n",
    "        return 2*fun(n+1)\n",
    "\n",
    "\n",
    "print(fun(2))\n"
   ]
  },
  {
   "cell_type": "code",
   "execution_count": null,
   "metadata": {},
   "outputs": [],
   "source": [
    "def checksorted(arr):\n",
    "    l=len(arr)\n",
    "    if l==0 or l==1:\n",
    "        return True\n",
    "    if arr[0]>arr[1]:\n",
    "        return False\n",
    "    issmall=arr[1:]\n",
    "    issmall==checksorted(issmall)\n",
    "    if issmall:\n",
    "        return True\n",
    "    else:\n",
    "        return False\n",
    "    "
   ]
  },
  {
   "cell_type": "code",
   "execution_count": null,
   "metadata": {},
   "outputs": [],
   "source": [
    "arr=[1,2,3,4,9,6,7,8]\n",
    "checksorted(arr)"
   ]
  },
  {
   "cell_type": "code",
   "execution_count": null,
   "metadata": {},
   "outputs": [],
   "source": [
    "def sumArray(arr):\n",
    "    if len(arr)==1:\n",
    "        return arr[0]\n",
    "   \n",
    "    return arr[0]+sumArray(arr[1:])\n",
    "    #Please add your code here\n",
    "   # pass\n",
    "\n",
    "# Main\n",
    "from sys import setrecursionlimit\n",
    "setrecursionlimit(11000)\n",
    "n=int(input())\n",
    "arr=list(int(i) for i in input().strip().split(' '))\n",
    "print(sumArray(arr))\n"
   ]
  },
  {
   "cell_type": "code",
   "execution_count": null,
   "metadata": {},
   "outputs": [],
   "source": [
    "def checkNumber(arr, x, si):\n",
    "    \n",
    "    \n",
    "    \n",
    "        \n",
    "    # Please add your code here\n",
    "    #pass\n",
    "\n",
    "# Main\n",
    "from sys import setrecursionlimit\n",
    "setrecursionlimit(11000)\n",
    "n=int(input())\n",
    "arr=list(int(i) for i in input().strip().split(' '))\n",
    "x=int(input())\n",
    "si=0\n",
    "if checkNumber(arr, x, si):\n",
    "    print('true')\n",
    "else:\n",
    "    print('false')\n"
   ]
  },
  {
   "cell_type": "code",
   "execution_count": null,
   "metadata": {},
   "outputs": [],
   "source": [
    "def firstIndex(arr, x, si):\n",
    "    l=len(arr)\n",
    "    if si==l-1:\n",
    "        if arr[si]==x:\n",
    "            return si\n",
    "    first=firstIndex(arr,x,si+1)\n",
    "    if arr[si+1]==x:\n",
    "        return si+1\n",
    "        \n",
    "    # Please add your code here\n",
    "    pass\n",
    "\n",
    "# Main\n",
    "from sys import setrecursionlimit\n",
    "setrecursionlimit(11000)\n",
    "n=int(input())\n",
    "arr=list(int(i) for i in input().strip().split(' '))\n",
    "x=int(input())\n",
    "si=0\n",
    "print(firstIndex(arr, x, si))\n"
   ]
  },
  {
   "cell_type": "code",
   "execution_count": null,
   "metadata": {},
   "outputs": [],
   "source": [
    "def replace(s,a,b):\n",
    "    if len(s)==0:\n",
    "        return s\n",
    "    smallreplace=replace(s[1:],a,b)\n",
    "    if s[0]==a:\n",
    "        return b+smallreplace            \n",
    "    else:\n",
    "        return s[0]+smallreplace\n",
    "    \n",
    "s='abcxbcccc'\n",
    "print(replace(s,'c','x'))\n",
    "    \n",
    "    "
   ]
  },
  {
   "cell_type": "code",
   "execution_count": null,
   "metadata": {},
   "outputs": [],
   "source": [
    "def binarysearch(arr,x,si,ei):\n",
    "    if si>ei:\n",
    "        return -1\n",
    "    mid=si+ei//2\n",
    "    if arr[mid]==x:\n",
    "        return mid\n",
    "    elif arr[mid]>x:\n",
    "        return binarysearch(arr,x,si,mid-1)\n",
    "    else:\n",
    "        return binarysearch(arr,x,mid+1,si)\n",
    "print(binarysearch([1,2,3,4,5,6,7,8],7,4,7))    "
   ]
  },
  {
   "cell_type": "code",
   "execution_count": null,
   "metadata": {},
   "outputs": [],
   "source": [
    "def mergeSort(a1,a2,arr):\n",
    "    i=0\n",
    "    j=0\n",
    "    k=0\n",
    "    while i<len(a1)  and j<len(a2):\n",
    "        if a1[i]<a2[j]:\n",
    "            arr[k]=a1[i]\n",
    "            k=k+1\n",
    "            i=i+1\n",
    "        else:\n",
    "            arr[k]=a2[j]\n",
    "            j=j+1\n",
    "            k=k+1\n",
    "    while i<len(a1):\n",
    "            arr[k]=a1[i]\n",
    "            i=i+1\n",
    "            k=k+1\n",
    "    while j<len(a2):\n",
    "            arr[k]=a2[j]\n",
    "            j=j+1\n",
    "            k=k+1\n",
    "\n",
    "def merge(arr):\n",
    "    l=len(arr)\n",
    "    if len(arr)==0 or len(arr)==1:\n",
    "        return\n",
    "    mid=l//2\n",
    "    a1=arr[0:mid]\n",
    "    a2=arr[mid:]\n",
    "    merge(a1)\n",
    "    merge(a2)\n",
    "    mergeSort(a1,a2,arr)\n",
    "    # Please add your code here\n",
    "    pass\n",
    "\n",
    "# Main\n",
    "n=int(input())\n",
    "arr=list(int(i) for i in input().strip().split(' '))\n",
    "merge(arr)\n",
    "#print (arr)\n",
    "for i in arr:\n",
    "    print(i,end=' ')\n"
   ]
  },
  {
   "cell_type": "code",
   "execution_count": null,
   "metadata": {},
   "outputs": [],
   "source": [
    "def geometricsum(k):\n",
    "    if k==0:\n",
    "        return 0\n",
    "    \n",
    "    return k%10 + float(1/2)*(geometricsum(k-1))\n",
    "\n",
    "k=int(input())\n",
    "print(geometricsum(k))"
   ]
  },
  {
   "cell_type": "code",
   "execution_count": null,
   "metadata": {},
   "outputs": [],
   "source": [
    "def geometricsum(k):\n",
    "    if(k == 1):\n",
    "        return 1\n",
    "\n",
    "    #k = k*2\n",
    "    return float(1/k) + geometricsum(k-1)\n",
    "k=int(input())\n",
    "print(geometricsum(k))"
   ]
  },
  {
   "cell_type": "code",
   "execution_count": null,
   "metadata": {},
   "outputs": [],
   "source": [
    "def sum(n):\n",
    "    \n",
    "    if n==0:\n",
    "        return 0\n",
    "    n=n%10\n",
    "    return n+sum(n-1)\n",
    "n=int(input())\n",
    "print(sum(n))"
   ]
  },
  {
   "cell_type": "code",
   "execution_count": 3,
   "metadata": {},
   "outputs": [
    {
     "name": "stdout",
     "output_type": "stream",
     "text": [
      "1002002\n",
      "4\n"
     ]
    }
   ],
   "source": [
    "def zerocount(n):\n",
    "    if n==0:\n",
    "        return 0\n",
    "    if n%10==0:\n",
    "        return 1+zerocount(n//10)\n",
    "    else:\n",
    "        return zerocount(n//10)\n",
    "    \n",
    "n=int(input())    \n",
    "print(zerocount(n))"
   ]
  },
  {
   "cell_type": "code",
   "execution_count": 4,
   "metadata": {},
   "outputs": [
    {
     "ename": "SyntaxError",
     "evalue": "invalid syntax (<ipython-input-4-0b5a13213b1a>, line 8)",
     "output_type": "error",
     "traceback": [
      "\u001b[1;36m  File \u001b[1;32m\"<ipython-input-4-0b5a13213b1a>\"\u001b[1;36m, line \u001b[1;32m8\u001b[0m\n\u001b[1;33m    if str[1]==' ' or str[1]=='a' or str[1:3]=='bb'\u001b[0m\n\u001b[1;37m                                                   ^\u001b[0m\n\u001b[1;31mSyntaxError\u001b[0m\u001b[1;31m:\u001b[0m invalid syntax\n"
     ]
    }
   ],
   "source": [
    "def checkAB(str):\n",
    "    l=len(str)\n",
    "    if l==0:\n",
    "        return -1\n",
    "    if str[0]=='a':\n",
    "        return True\n",
    "    if str[0]=='a':\n",
    "        if str[1]==' ' or str[1]=='a' or str[1:3]=='bb'\n",
    "        return True\n",
    "    if str[1:3]=='bb':\n",
    "        if str[3]==' ' or str[3]=='a':\n",
    "            return True\n",
    "            \n",
    "str=input()\n",
    "return(checkAB(str))"
   ]
  },
  {
   "cell_type": "code",
   "execution_count": null,
   "metadata": {},
   "outputs": [],
   "source": [
    "from datetime import date\n",
    "class Student:\n",
    "\n",
    "\tpassingPercentage = 40\n",
    "\n",
    "\tdef __init__(self,name,age=15,percentage=80):\n",
    "\t\tself.name = name\n",
    "\t\tself.age = age\n",
    "\t\tself.percentage = percentage\n",
    "\n",
    "\t@classmethod\n",
    "\tdef fromBirthYear(cls,name,year,percentage):\n",
    "\t\treturn cls(name,date.today().year - year,percentage)\n",
    "\n",
    "\tdef studentDetails(self):\n",
    "\t\tprint(\"Name = \", self.name)\n",
    "\t\tprint(\"Age =\" , self.age)\n",
    "\t\tprint(\"Percentage = \", self.percentage)\n",
    "\t\t\n",
    "\n",
    "\tdef isPassed(self):\n",
    "\t\tif self.percentage > Student.passingPercentage:\n",
    "\t\t\tprint(\"Student is passed\")\n",
    "\t\telse:\n",
    "\t\t\tprint(\"Student is not passed\")\n",
    "\n",
    "\n",
    "\t@staticmethod\n",
    "\tdef welcomeToSchool():\n",
    "\t\tprint(\"Hey! Welcome To School\")\n",
    "\n",
    "\t@staticmethod\n",
    "\tdef isTeen(age):\n",
    "\t\treturn age>16\n",
    "\n",
    "s1 = Student(\"Parikh\")\n",
    "s1 = Student.fromBirthYear(\"Parikh\",1996,70)\n",
    "s1.studentDetails()\n",
    "# s1.isPassed()\n",
    "# s2 = Student(\"Varun\",26,90)\n",
    "# s1.studentDetails()\n",
    "# s2.studentDetails()\n",
    "# s1.studentDetails()\n",
    "# Student.studentDetails(s1)\n",
    "# s1.isPassed()\n",
    "# s1.welcomeToSchool()\n",
    "\n",
    "\n",
    "#class_name.function(object_name)"
   ]
  },
  {
   "cell_type": "code",
   "execution_count": 6,
   "metadata": {},
   "outputs": [
    {
     "name": "stdout",
     "output_type": "stream",
     "text": [
      "True\n"
     ]
    }
   ],
   "source": [
    "class Student:\n",
    "    def __init__(self,name,age):\n",
    "        self.name = name\n",
    "        self.age = age\n",
    "    def print_student_details():\n",
    "        print(self.name, end= \" \")\n",
    "        print(self.age)\n",
    "\n",
    "    @staticmethod\n",
    "    def isTeen(age):\n",
    "        return age>16\n",
    "\n",
    "a = Student.isTeen(18)\n",
    "print(a)\n"
   ]
  },
  {
   "cell_type": "code",
   "execution_count": null,
   "metadata": {},
   "outputs": [],
   "source": [
    "\n",
    "class Vehicle:\n",
    "\n",
    "\tdef __init__(self,color,maxSpeed):\n",
    "\t\tself.color = color\n",
    "\t\tself.maxSpeed = maxSpeed\n",
    "\n",
    "class Car(Vehicle):\n",
    "\n",
    "\tdef __init__(self,color,maxSpeed,numGears,isConvertible):\n",
    "\n",
    "\t\tsuper().__init__(color,maxSpeed)\n",
    "\t\tself.numGears = numGears\n",
    "\t\tself.isConvertible = isConvertible\n",
    "\n",
    "\tdef printCar(self):\n",
    "\t\tprint(\"Color :\" ,self.color)\n",
    "\t\tprint(\"MaxSpeed :\",self.maxSpeed)\n",
    "\t\tprint(\"NumGears :\",self.numGears)\n",
    "\t\tprint(\"IsConvertible :\", self.isConvertible)\n",
    "\n",
    "\n",
    "c = Car(\"red\",15,3,False)\n",
    "c.printCar()"
   ]
  },
  {
   "cell_type": "code",
   "execution_count": null,
   "metadata": {},
   "outputs": [],
   "source": [
    "# Enter your code here. Read input from STDIN. Print output to STDOUT\n",
    "\n",
    "# This function stores \n",
    "# transpose of A[][] in B[][] \n",
    "  \n",
    "def transpose(A,B): \n",
    "  \n",
    "    for i in range(N): \n",
    "        for j in range(i+1, N): \n",
    "            A[i][j], A[j][i] = A[j][i], A[i][j]     \n",
    "  \n",
    "# driver code \n",
    "N = int(input())\n",
    "A=[]\n",
    "for i in range(N):\n",
    "    x=input().split()\n",
    "    c=[]\n",
    "    for j in range(N):\n",
    "        c.append(int(x[j]))\n",
    "    A.append(c)  \n",
    "   \n",
    "  \n",
    "  \n",
    " \n",
    "  \n",
    "\n",
    "   \n",
    "B = A[:][:] # To store result \n",
    "  \n",
    "transpose(A, B) \n",
    "   \n",
    "for i in range(N): \n",
    "    for j in range(N): \n",
    "        print(B[i][j], \"\", end='') \n",
    "    print() "
   ]
  }
 ],
 "metadata": {
  "kernelspec": {
   "display_name": "Python 3",
   "language": "python",
   "name": "python3"
  },
  "language_info": {
   "codemirror_mode": {
    "name": "ipython",
    "version": 3
   },
   "file_extension": ".py",
   "mimetype": "text/x-python",
   "name": "python",
   "nbconvert_exporter": "python",
   "pygments_lexer": "ipython3",
   "version": "3.7.1"
  }
 },
 "nbformat": 4,
 "nbformat_minor": 2
}

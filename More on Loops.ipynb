{
 "cells": [
  {
   "cell_type": "markdown",
   "metadata": {},
   "source": [
    "# Sum or product"
   ]
  },
  {
   "cell_type": "code",
   "execution_count": 1,
   "metadata": {},
   "outputs": [
    {
     "name": "stdout",
     "output_type": "stream",
     "text": [
      "10\n",
      "1\n",
      "55\n"
     ]
    }
   ],
   "source": [
    "n=int(input())\n",
    "choice=int(input())\n",
    "if choice>2 or choice<1:\n",
    "    print('-1')\n",
    "if choice==1:\n",
    "    sum=0\n",
    "    for i in range(1,n+1):\n",
    "        sum+=i\n",
    "    print(sum)\n",
    "if choice==2:\n",
    "    mul=1\n",
    "    for i in range(1,n+1):\n",
    "        mul*=i\n",
    "    print(mul)     "
   ]
  },
  {
   "cell_type": "markdown",
   "metadata": {},
   "source": [
    "# Square root (Integral)"
   ]
  },
  {
   "cell_type": "code",
   "execution_count": 2,
   "metadata": {},
   "outputs": [
    {
     "name": "stdout",
     "output_type": "stream",
     "text": [
      "5\n",
      "2\n"
     ]
    }
   ],
   "source": [
    "import math\n",
    "n=int(input())\n",
    "ans=math.sqrt(n)\n",
    "print(int(ans))"
   ]
  },
  {
   "cell_type": "markdown",
   "metadata": {},
   "source": [
    "# Decimal to Binary\n"
   ]
  },
  {
   "cell_type": "code",
   "execution_count": 3,
   "metadata": {},
   "outputs": [
    {
     "name": "stdout",
     "output_type": "stream",
     "text": [
      "12\n",
      "1100"
     ]
    }
   ],
   "source": [
    "def decimal_to_binary(num):\n",
    "    if num>1:\n",
    "        decimal_to_binary(num//2)\n",
    "    print(num%2,end='')\n",
    "num=int(input())\n",
    "decimal_to_binary(num)\n",
    "        "
   ]
  },
  {
   "cell_type": "markdown",
   "metadata": {},
   "source": [
    "# Trailing zeroes in n!\n"
   ]
  },
  {
   "cell_type": "code",
   "execution_count": null,
   "metadata": {},
   "outputs": [],
   "source": [
    "def findTrailingZ(n): \n",
    "    \n",
    "    count = 0\n",
    "  \n",
    "    i=5\n",
    "    while (n/i>=1): \n",
    "        count += int(n/i) \n",
    "        i *= 5\n",
    "  \n",
    "    return int(count) \n",
    "n=int(input())\n",
    "print(findTrailingZ(n))"
   ]
  },
  {
   "cell_type": "code",
   "execution_count": null,
   "metadata": {},
   "outputs": [],
   "source": []
  }
 ],
 "metadata": {
  "kernelspec": {
   "display_name": "Python 3",
   "language": "python",
   "name": "python3"
  },
  "language_info": {
   "codemirror_mode": {
    "name": "ipython",
    "version": 3
   },
   "file_extension": ".py",
   "mimetype": "text/x-python",
   "name": "python",
   "nbconvert_exporter": "python",
   "pygments_lexer": "ipython3",
   "version": "3.7.1"
  }
 },
 "nbformat": 4,
 "nbformat_minor": 2
}

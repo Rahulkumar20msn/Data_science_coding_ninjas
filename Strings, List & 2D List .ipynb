{
 "cells": [
  {
   "cell_type": "markdown",
   "metadata": {},
   "source": [
    "# Check Palindrome"
   ]
  },
  {
   "cell_type": "code",
   "execution_count": 1,
   "metadata": {},
   "outputs": [
    {
     "name": "stdout",
     "output_type": "stream",
     "text": [
      "ababdbs\n",
      "false\n"
     ]
    }
   ],
   "source": [
    "str=input()\n",
    "str1=str[::-1]\n",
    "if str==str1:\n",
    "    print('true')\n",
    "else:\n",
    "    print('false')"
   ]
  },
  {
   "cell_type": "markdown",
   "metadata": {},
   "source": [
    "# Print all substrings"
   ]
  },
  {
   "cell_type": "code",
   "execution_count": 2,
   "metadata": {},
   "outputs": [
    {
     "name": "stdout",
     "output_type": "stream",
     "text": [
      "xyz\n",
      "x\n",
      "xy\n",
      "xyz\n",
      "y\n",
      "yz\n",
      "z\n"
     ]
    }
   ],
   "source": [
    "def subString(s, n): \n",
    "    \n",
    "    for i in range(n): \n",
    "        for len in range(i+1,n+1): \n",
    "            print(s[i: len])\n",
    "s=input()\n",
    "n=len(s)\n",
    "subString(s,n)"
   ]
  },
  {
   "cell_type": "markdown",
   "metadata": {},
   "source": [
    "# Remove Consecutive Duplicates "
   ]
  },
  {
   "cell_type": "code",
   "execution_count": 4,
   "metadata": {},
   "outputs": [
    {
     "name": "stdout",
     "output_type": "stream",
     "text": [
      "aabbc\n",
      "abc\n"
     ]
    }
   ],
   "source": [
    "def removeDuplicates(s):\n",
    "\n",
    "    chars = list(s)\n",
    "    prev = None\n",
    "    k = 0\n",
    "\n",
    "    for c in s:\n",
    "        if prev != c:\n",
    "            chars[k] = c\n",
    "            prev = c\n",
    "            k = k + 1\n",
    "\n",
    "    return ''.join(chars[:k])\n",
    "\n",
    "s =input()\n",
    "\n",
    "s = removeDuplicates(s)\n",
    "print(s)\n"
   ]
  },
  {
   "cell_type": "markdown",
   "metadata": {},
   "source": [
    "# Reverse Each Word"
   ]
  },
  {
   "cell_type": "code",
   "execution_count": 5,
   "metadata": {},
   "outputs": [
    {
     "name": "stdout",
     "output_type": "stream",
     "text": [
      "Welcome to Coding Ninjas\n",
      "emocleW ot gnidoC sajniN "
     ]
    }
   ],
   "source": [
    "def reverse_each_word(str):\n",
    "    n=len(str)\n",
    "    list=[]\n",
    "    for i in str:\n",
    "        reverse=i[::-1]\n",
    "        list.append(reverse)\n",
    "    for i in list:\n",
    "        print(i,end=' ')\n",
    "    \n",
    "    \n",
    "str=input().split()\n",
    "reverse_each_word(str)\n",
    "\n"
   ]
  },
  {
   "cell_type": "markdown",
   "metadata": {},
   "source": [
    "# Highest Occurring Character"
   ]
  },
  {
   "cell_type": "code",
   "execution_count": 6,
   "metadata": {},
   "outputs": [
    {
     "name": "stdout",
     "output_type": "stream",
     "text": [
      "abdefgbabfba\n",
      "b\n"
     ]
    }
   ],
   "source": [
    "ASCII_SIZE = 256\n",
    "  \n",
    "def getMaxOccuringChar(str): \n",
    "      \n",
    "    count = [0] * ASCII_SIZE \n",
    "  \n",
    "    max = -1\n",
    "    c = '' \n",
    "  \n",
    "    for i in str: \n",
    "        count[ord(i)]+=1; \n",
    "  \n",
    "    for i in str: \n",
    "        if max < count[ord(i)]: \n",
    "            max = count[ord(i)] \n",
    "            c = i \n",
    "  \n",
    "    return c \n",
    "str=input()\n",
    "print(getMaxOccuringChar(str))"
   ]
  },
  {
   "cell_type": "markdown",
   "metadata": {},
   "source": [
    "# Maximise the sum"
   ]
  },
  {
   "cell_type": "code",
   "execution_count": null,
   "metadata": {},
   "outputs": [],
   "source": [
    "   \n",
    "    i, j = 0, 0\n",
    "      \n",
    "    \n",
    "    result, sum1, sum2= 0, 0, 0\n",
    "      \n",
    "   \n",
    "    while (i < m and j < n): \n",
    "        \n",
    "        \n",
    "        if ar1[i] < ar2[j]: \n",
    "            sum1 += ar1[i] \n",
    "            i+=1\n",
    "          \n",
    "       \n",
    "        elif ar1[i] > ar2[j]: \n",
    "            sum2 += ar2[j] \n",
    "            j+=1\n",
    "          \n",
    "        else:   \n",
    "          \n",
    "           \n",
    "            result+= max(sum1,sum2) \n",
    "              \n",
    "             \n",
    "            sum1, sum2 = 0, 0\n",
    "              \n",
    "            \n",
    "            while (i < m and j < n and ar1[i]==ar2[j]): \n",
    "                result += ar1[i] \n",
    "                i+=1\n",
    "                j+=1\n",
    "      \n",
    "    \n",
    "    while i < m: \n",
    "        sum1 += ar1[i] \n",
    "        i+=1\n",
    "     \n",
    "    while j < n: \n",
    "        sum2 += ar2[j] \n",
    "        j+=1\n",
    "      \n",
    "   \n",
    "    result += max(sum1,sum2) \n",
    "      \n",
    "    return result \n",
    "m=int(input())\n",
    "ar1=[int(i) for i in input().split()]\n",
    "n=int(input())\n",
    "ar2=[int(i) for i in input().split()]\n",
    "print(maxPathSum(ar1,ar2 , m , n))"
   ]
  },
  {
   "cell_type": "markdown",
   "metadata": {},
   "source": [
    "# Print Spiral"
   ]
  },
  {
   "cell_type": "code",
   "execution_count": null,
   "metadata": {},
   "outputs": [],
   "source": [
    "from sys import stdin\n",
    "\n",
    "def spiralPrint(mat, nRows, mCols):\n",
    "    if nRows==0:\n",
    "        return\n",
    "    rowStart,colStart=0,0\n",
    "    numElements=nRows*mCols\n",
    "    count=0\n",
    "    while count<numElements:\n",
    "        i=colStart\n",
    "        while i<mCols and count<numElements:\n",
    "            print(mat[rowStart][i],end=' ')\n",
    "            count+=1\n",
    "            i+=1\n",
    "        rowStart+=1\n",
    "        i=rowStart\n",
    "        while i<nRows and count<numElements:\n",
    "            print(mat[i][mCols-1],end=' ')\n",
    "            count+=1\n",
    "            i+=1\n",
    "        mCols-=1\n",
    "        i=mCols-1\n",
    "        while i>=colStart and count<numElements:\n",
    "            print(mat[nRows-1][i],end=' ')\n",
    "            count+=1\n",
    "            i-=1\n",
    "        nRows-=1\n",
    "        i=nRows-1\n",
    "        while i>=rowStart and count<numElements:\n",
    "            print(mat[i][colStart],end=' ')\n",
    "            count+=1\n",
    "            i-=1\n",
    "        colStart+=1    \n",
    "            \n",
    "    \n",
    "\n",
    "#Taking Input Using Fast I/O\n",
    "def take2DInput() :\n",
    "    li = stdin.readline().rstrip().split(\" \")\n",
    "    nRows = int(li[0])\n",
    "    mCols = int(li[1])\n",
    "    \n",
    "    if nRows == 0 :\n",
    "        return list(), 0, 0\n",
    "    \n",
    "    mat = [list(map(int, input().strip().split(\" \"))) for row in range(nRows)]\n",
    "    return mat, nRows, mCols\n",
    "\n",
    "\n",
    "#main\n",
    "t = int(stdin.readline().rstrip())\n",
    "\n",
    "while t > 0 :\n",
    "\n",
    "    mat, nRows, mCols = take2DInput()\n",
    "    spiralPrint(mat, nRows, mCols)\n",
    "    print()\n",
    "\n",
    "    t -= 1"
   ]
  }
 ],
 "metadata": {
  "kernelspec": {
   "display_name": "Python 3",
   "language": "python",
   "name": "python3"
  },
  "language_info": {
   "codemirror_mode": {
    "name": "ipython",
    "version": 3
   },
   "file_extension": ".py",
   "mimetype": "text/x-python",
   "name": "python",
   "nbconvert_exporter": "python",
   "pygments_lexer": "ipython3",
   "version": "3.7.1"
  }
 },
 "nbformat": 4,
 "nbformat_minor": 2
}
